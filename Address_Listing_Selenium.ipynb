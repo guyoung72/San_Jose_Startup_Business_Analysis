{
 "cells": [
  {
   "cell_type": "code",
   "execution_count": 18,
   "metadata": {},
   "outputs": [
    {
     "name": "stdout",
     "output_type": "stream",
     "text": [
      "Collecting bs4\n",
      "  Downloading bs4-0.0.1.tar.gz (1.1 kB)\n",
      "  Preparing metadata (setup.py): started\n",
      "  Preparing metadata (setup.py): finished with status 'done'\n",
      "Collecting beautifulsoup4\n",
      "  Downloading beautifulsoup4-4.11.2-py3-none-any.whl (129 kB)\n",
      "     ---------------------------------------- 0.0/129.4 kB ? eta -:--:--\n",
      "     -------------------------------------- 129.4/129.4 kB 3.8 MB/s eta 0:00:00\n",
      "Collecting soupsieve>1.2\n",
      "  Downloading soupsieve-2.3.2.post1-py3-none-any.whl (37 kB)\n",
      "Installing collected packages: soupsieve, beautifulsoup4, bs4\n",
      "  Running setup.py install for bs4: started\n",
      "  Running setup.py install for bs4: finished with status 'done'\n",
      "Successfully installed beautifulsoup4-4.11.2 bs4-0.0.1 soupsieve-2.3.2.post1\n",
      "Note: you may need to restart the kernel to use updated packages.\n"
     ]
    },
    {
     "name": "stderr",
     "output_type": "stream",
     "text": [
      "  DEPRECATION: bs4 is being installed using the legacy 'setup.py install' method, because it does not have a 'pyproject.toml' and the 'wheel' package is not installed. pip 23.1 will enforce this behaviour change. A possible replacement is to enable the '--use-pep517' option. Discussion can be found at https://github.com/pypa/pip/issues/8559\n"
     ]
    }
   ],
   "source": [
    "pip install bs4"
   ]
  },
  {
   "cell_type": "code",
   "execution_count": 12,
   "metadata": {},
   "outputs": [],
   "source": [
    "from selenium import webdriver\n",
    "from selenium.webdriver.common.keys import Keys\n",
    "from selenium.webdriver.common.by import By\n",
    "import pandas as pd"
   ]
  },
  {
   "cell_type": "code",
   "execution_count": 75,
   "metadata": {},
   "outputs": [
    {
     "name": "stdout",
     "output_type": "stream",
     "text": [
      "Select day to download\n"
     ]
    },
    {
     "ename": "NameError",
     "evalue": "name 'var' is not defined",
     "output_type": "error",
     "traceback": [
      "\u001b[1;31m---------------------------------------------------------------------------\u001b[0m",
      "\u001b[1;31mNameError\u001b[0m                                 Traceback (most recent call last)",
      "Cell \u001b[1;32mIn[75], line 8\u001b[0m\n\u001b[0;32m      5\u001b[0m friday\u001b[39m=\u001b[39m\u001b[39m'\u001b[39m\u001b[39mhttps://goo.gl/maps/sGkKt7TmGqBxwMmJA\u001b[39m\u001b[39m'\u001b[39m\n\u001b[0;32m      7\u001b[0m \u001b[39mprint\u001b[39m(\u001b[39m'\u001b[39m\u001b[39mSelect day to download\u001b[39m\u001b[39m'\u001b[39m)\n\u001b[1;32m----> 8\u001b[0m dayday\u001b[39m=\u001b[39mvar(\u001b[39minput\u001b[39m()\u001b[39m.\u001b[39mlower())\n\u001b[0;32m      9\u001b[0m \u001b[39mprint\u001b[39m(dayday\u001b[39m.\u001b[39mupper() \u001b[39m+\u001b[39m\u001b[39m'\u001b[39m\u001b[39m is selected\u001b[39m\u001b[39m'\u001b[39m)\n",
      "\u001b[1;31mNameError\u001b[0m: name 'var' is not defined"
     ]
    }
   ],
   "source": [
    "monday='https://goo.gl/maps/ucVt17nYzVyyMRDx6'\n",
    "tuesday='https://goo.gl/maps/Hr46uKGEGRWwdunQ7'\n",
    "wednesday='https://goo.gl/maps/VEPfwsMvigioE4fn7'\n",
    "thursday='https://goo.gl/maps/o5D5XZ1XgcEG5LNJ7'\n",
    "friday='https://goo.gl/maps/sGkKt7TmGqBxwMmJA'"
   ]
  },
  {
   "cell_type": "code",
   "execution_count": 76,
   "metadata": {},
   "outputs": [],
   "source": [
    "# import libraries #\n",
    "import time\n",
    "import timeit\n",
    "from bs4 import BeautifulSoup\n",
    "## need selenium to load the page for HTML to show\n",
    "from selenium import webdriver\n",
    "from webdriver_manager.chrome import ChromeDriverManager"
   ]
  },
  {
   "cell_type": "code",
   "execution_count": 77,
   "metadata": {},
   "outputs": [
    {
     "name": "stderr",
     "output_type": "stream",
     "text": [
      "C:\\Users\\Guyoung\\AppData\\Local\\Temp\\ipykernel_17016\\2498406825.py:1: DeprecationWarning: executable_path has been deprecated, please pass in a Service object\n",
      "  driver = webdriver.Chrome(ChromeDriverManager().install())\n"
     ]
    },
    {
     "name": "stdout",
     "output_type": "stream",
     "text": [
      "1763\n",
      "0\n",
      "3456\n",
      "1\n",
      "4317\n",
      "2\n",
      "4317\n",
      "Time taken:  6.076854699998876\n"
     ]
    }
   ],
   "source": [
    "driver = webdriver.Chrome(ChromeDriverManager().install())\n",
    "driver.get(tuesday)\n",
    "start = timeit.default_timer()\n",
    "\n",
    "# identify scrolling element first i.e. the sidebar\n",
    "scrolling_element_xpath = '/html/body/div[3]/div[9]/div[9]/div/div/div[1]/div[2]/div/div[1]/div/div/div[5]'\n",
    "scrolling_element= driver.find_element(By.XPATH, scrolling_element_xpath)\n",
    "\n",
    "# use height of element to determine if need to scroll \n",
    "last_height = driver.execute_script(\"return arguments[0].scrollHeight\", scrolling_element)\n",
    "print(last_height)\n",
    "\n",
    "SCROLL_PAUSE_TIME = 2.0 # pause before next scroll, to let page load \n",
    "t = 0 # number of times we have scrolled\n",
    "\n",
    "## Loop the scrolling until cannot scroll anymore\n",
    "while True:\n",
    "    print(t)\n",
    "    # Scroll down to bottom of whatever is currently loaded\n",
    "    driver.execute_script('arguments[0].scrollTo(0, arguments[0].scrollHeight)', scrolling_element)\n",
    "    t = t+1\n",
    "\n",
    "    # Wait to load page\n",
    "    time.sleep(SCROLL_PAUSE_TIME)\n",
    "\n",
    "    # Check if more scrolling required \n",
    "    new_height = driver.execute_script(\"return arguments[0].scrollHeight\", scrolling_element)\n",
    "    print(new_height)\n",
    "    if new_height == last_height:\n",
    "        break\n",
    "    last_height = new_height\n",
    "\n",
    "\n",
    "stop = timeit.default_timer()\n",
    "\n",
    "print('Time taken: ', stop - start) "
   ]
  },
  {
   "cell_type": "code",
   "execution_count": 78,
   "metadata": {},
   "outputs": [],
   "source": [
    "address= driver.find_elements(By.XPATH, '/html/body/div[3]/div[9]/div[9]/div/div/div[1]/div[2]/div/div[1]/div/div/div[5]')\n",
    "\n",
    "address_list = []\n",
    "for i in range(len(address)):\n",
    "    address_list.append(address[i].text)\n",
    "address_list"
   ]
  },
  {
   "cell_type": "code",
   "execution_count": 112,
   "metadata": {},
   "outputs": [
    {
     "data": {
      "text/plain": [
       "['10834 Dryden Ave\\nCupertino, CA 95014\\n5059 Yorkton Way\\nSan Jose, CA 95130\\n4965 Vanderbilt Dr\\nSan Jose, CA 95130\\n18754 Martha Ave\\nSaratoga, CA 95070\\n12672 Larchmont Ave\\nSaratoga, CA 95070\\n20161 Cherry Ln\\nSaratoga, CA 95070\\n20209 Kirkmont Dr\\nSaratoga, CA 95070\\n1915 Serge Ave\\nSan Jose, CA 95130\\n4697 Eagle Lake Dr\\nSan Jose, CA 95136\\n3433 Picadilly Dr\\nSan Jose, CA 95118\\n1826 Germaine Ct\\nSan Jose, CA 95122\\n1173 Creston Ln\\nSan Jose, CA 95122\\n1563 Scotty St\\nSan Jose, CA 95122\\n1919 Rosenelfe Cir\\nSan Jose, CA 95148\\n1199 Pellier Dr\\nSan Jose, CA 95121\\n3063 Lone Bluff Way\\nSan Jose, CA 95111\\n5903 Mohawk Dr\\nSan Jose, CA 95123\\n6118 Cahalan Ave\\nSan Jose, CA 95123\\n6155 Hancock Ave\\nSan Jose, CA 95123\\n6050 Chesbro Ave\\nSan Jose, CA 95123\\n5641 Comanche Dr\\nSan Jose, CA 95123\\n411 Avenida Arboles\\nSan Jose, CA 95123\\n4382 Kingspark Dr\\nSan Jose, CA 95136\\n561 Churchill Park Dr\\nSan Jose, CA 95136\\n475 Bluefield Dr\\nSan Jose, CA 95136\\n1028 S Daniel Way\\nSan Jose, CA 95128\\n2749 Westfield Ave\\nSan Jose, CA 95128\\n671 S Monroe St\\nSan Jose, CA 95128\\n3193 Oriole Dr\\nSan Jose, CA 95117\\n3725 Shaynor Ct\\nSan Jose, CA 95130\\n1375 Maria Way\\nSan Jose, CA 95117\\n3457 Payne Ave\\nSan Jose, CA 95117\\n3429 Lynn Oaks Dr\\nSan Jose, CA 95117\\n3436 Lindenoaks Dr\\nSan Jose, CA 95117\\n3965 Bismarck Dr\\nSan Jose, CA 95130\\n4080 Williams Rd\\nSan Jose, CA 95117\\n1573 Van Dusen Ln\\nCampbell, CA 95008\\n1025 Steinway Ave\\nCampbell, CA 95008\\n1408 Capri Dr\\nCampbell, CA 95008\\n1434 Bryan Ave\\nSan Jose, CA 95118\\n854 Mulcaster Ct\\nSan Jose, CA 95136\\n2446 Arden Way\\nSan Jose, CA 95122\\n1985 S King Rd\\nSan Jose, CA 95122\\n3101 Haga Dr\\nSan Jose, CA 95111\\n469 Crow Ct\\nSan Jose, CA 95123\\n6229 Omaha Ct\\nSan Jose, CA 95123\\n5856 Lalor Dr\\nSan Jose, CA 95123\\n5699 San Lorenzo Dr\\nSan Jose, CA 95123\\n1416 Ridgewood Dr\\nSan Jose, CA 95118\\n1427 Dentwood Dr\\nSan Jose, CA 95118\\n1441 Dentwood Dr\\nSan Jose, CA 95118']"
      ]
     },
     "execution_count": 112,
     "metadata": {},
     "output_type": "execute_result"
    }
   ],
   "source": [
    "address_list"
   ]
  },
  {
   "cell_type": "code",
   "execution_count": 113,
   "metadata": {},
   "outputs": [],
   "source": [
    "address_list2 = []\n",
    "for i in address_list:\n",
    "    address_list2.append(i.strip('\\n'))"
   ]
  },
  {
   "cell_type": "code",
   "execution_count": 110,
   "metadata": {},
   "outputs": [
    {
     "data": {
      "text/plain": [
       "['10834 Dryden Ave\\nCupertino, CA 95014\\n5059 Yorkton Way\\nSan Jose, CA 95130\\n4965 Vanderbilt Dr\\nSan Jose, CA 95130\\n18754 Martha Ave\\nSaratoga, CA 95070\\n12672 Larchmont Ave\\nSaratoga, CA 95070\\n20161 Cherry Ln\\nSaratoga, CA 95070\\n20209 Kirkmont Dr\\nSaratoga, CA 95070\\n1915 Serge Ave\\nSan Jose, CA 95130\\n4697 Eagle Lake Dr\\nSan Jose, CA 95136\\n3433 Picadilly Dr\\nSan Jose, CA 95118\\n1826 Germaine Ct\\nSan Jose, CA 95122\\n1173 Creston Ln\\nSan Jose, CA 95122\\n1563 Scotty St\\nSan Jose, CA 95122\\n1919 Rosenelfe Cir\\nSan Jose, CA 95148\\n1199 Pellier Dr\\nSan Jose, CA 95121\\n3063 Lone Bluff Way\\nSan Jose, CA 95111\\n5903 Mohawk Dr\\nSan Jose, CA 95123\\n6118 Cahalan Ave\\nSan Jose, CA 95123\\n6155 Hancock Ave\\nSan Jose, CA 95123\\n6050 Chesbro Ave\\nSan Jose, CA 95123\\n5641 Comanche Dr\\nSan Jose, CA 95123\\n411 Avenida Arboles\\nSan Jose, CA 95123\\n4382 Kingspark Dr\\nSan Jose, CA 95136\\n561 Churchill Park Dr\\nSan Jose, CA 95136\\n475 Bluefield Dr\\nSan Jose, CA 95136\\n1028 S Daniel Way\\nSan Jose, CA 95128\\n2749 Westfield Ave\\nSan Jose, CA 95128\\n671 S Monroe St\\nSan Jose, CA 95128\\n3193 Oriole Dr\\nSan Jose, CA 95117\\n3725 Shaynor Ct\\nSan Jose, CA 95130\\n1375 Maria Way\\nSan Jose, CA 95117\\n3457 Payne Ave\\nSan Jose, CA 95117\\n3429 Lynn Oaks Dr\\nSan Jose, CA 95117\\n3436 Lindenoaks Dr\\nSan Jose, CA 95117\\n3965 Bismarck Dr\\nSan Jose, CA 95130\\n4080 Williams Rd\\nSan Jose, CA 95117\\n1573 Van Dusen Ln\\nCampbell, CA 95008\\n1025 Steinway Ave\\nCampbell, CA 95008\\n1408 Capri Dr\\nCampbell, CA 95008\\n1434 Bryan Ave\\nSan Jose, CA 95118\\n854 Mulcaster Ct\\nSan Jose, CA 95136\\n2446 Arden Way\\nSan Jose, CA 95122\\n1985 S King Rd\\nSan Jose, CA 95122\\n3101 Haga Dr\\nSan Jose, CA 95111\\n469 Crow Ct\\nSan Jose, CA 95123\\n6229 Omaha Ct\\nSan Jose, CA 95123\\n5856 Lalor Dr\\nSan Jose, CA 95123\\n5699 San Lorenzo Dr\\nSan Jose, CA 95123\\n1416 Ridgewood Dr\\nSan Jose, CA 95118\\n1427 Dentwood Dr\\nSan Jose, CA 95118\\n1441 Dentwood Dr\\nSan Jose, CA 95118']"
      ]
     },
     "execution_count": 110,
     "metadata": {},
     "output_type": "execute_result"
    }
   ],
   "source": [
    "address_list2"
   ]
  }
 ],
 "metadata": {
  "kernelspec": {
   "display_name": "Python 3",
   "language": "python",
   "name": "python3"
  },
  "language_info": {
   "codemirror_mode": {
    "name": "ipython",
    "version": 3
   },
   "file_extension": ".py",
   "mimetype": "text/x-python",
   "name": "python",
   "nbconvert_exporter": "python",
   "pygments_lexer": "ipython3",
   "version": "3.11.1"
  },
  "orig_nbformat": 4,
  "vscode": {
   "interpreter": {
    "hash": "475fe70a65bf48990c22d048b39a193591823f619743675bc80bfe7bfbe6fcb9"
   }
  }
 },
 "nbformat": 4,
 "nbformat_minor": 2
}
